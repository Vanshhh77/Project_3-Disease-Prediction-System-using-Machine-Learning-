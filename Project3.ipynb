{
  "nbformat": 4,
  "nbformat_minor": 0,
  "metadata": {
    "colab": {
      "provenance": []
    },
    "kernelspec": {
      "name": "python3",
      "display_name": "Python 3"
    },
    "language_info": {
      "name": "python"
    }
  },
  "cells": [
    {
      "cell_type": "code",
      "execution_count": null,
      "metadata": {
        "colab": {
          "base_uri": "https://localhost:8080/"
        },
        "id": "IIOO0ioJqBCK",
        "outputId": "3df4ac45-bc22-4741-b9b8-ebb3267003c0"
      },
      "outputs": [
        {
          "output_type": "stream",
          "name": "stdout",
          "text": [
            "   age        bmi  blood_pressure  cholesterol  family_history  \\\n",
            "0   50  35.545929             167          251               0   \n",
            "1   21  18.052021             139          191               1   \n",
            "2   27  25.326220             111          266               0   \n",
            "3   20  24.180481             165          189               1   \n",
            "4   29  26.727182              90          248               0   \n",
            "\n",
            "   exercise_hours  stress_level  sleep_duration  fast_food_intake  disease  \\\n",
            "0              23             4               6                 3        0   \n",
            "1              11             6               9                 3        0   \n",
            "2              15             5              11                 3        1   \n",
            "3              21             6              11                 0        0   \n",
            "4               8             0               5                 3        1   \n",
            "\n",
            "   gender_Female  gender_Male  smoking_status_Current Smoker  \\\n",
            "0              0            1                              0   \n",
            "1              0            1                              0   \n",
            "2              1            0                              0   \n",
            "3              1            0                              0   \n",
            "4              1            0                              1   \n",
            "\n",
            "   smoking_status_Former Smoker  smoking_status_Never Smoked  \\\n",
            "0                             0                            1   \n",
            "1                             1                            0   \n",
            "2                             0                            1   \n",
            "3                             1                            0   \n",
            "4                             0                            0   \n",
            "\n",
            "   alcohol_consumption_Heavy  alcohol_consumption_Moderate  \\\n",
            "0                          0                             0   \n",
            "1                          0                             0   \n",
            "2                          1                             0   \n",
            "3                          0                             0   \n",
            "4                          1                             0   \n",
            "\n",
            "   alcohol_consumption_None  \n",
            "0                         1  \n",
            "1                         1  \n",
            "2                         0  \n",
            "3                         1  \n",
            "4                         0  \n"
          ]
        }
      ],
      "source": [
        "import pandas as pd\n",
        "import numpy as np\n",
        "from sklearn.datasets import make_classification\n",
        "\n",
        "# Generating synthetic data\n",
        "n_samples = 1000\n",
        "\n",
        "# Generating features\n",
        "age = np.random.randint(18, 80, size=n_samples)\n",
        "gender = np.random.choice(['Male', 'Female'], size=n_samples)\n",
        "bmi = np.random.uniform(18, 40, size=n_samples)\n",
        "blood_pressure = np.random.randint(90, 180, size=n_samples)\n",
        "cholesterol = np.random.randint(120, 300, size=n_samples)\n",
        "family_history = np.random.choice([0, 1], size=n_samples)\n",
        "exercise_hours = np.random.randint(0, 24, size=n_samples)\n",
        "smoking_status = np.random.choice(['Never Smoked', 'Former Smoker', 'Current Smoker'], size=n_samples)\n",
        "alcohol_consumption = np.random.choice(['None', 'Moderate', 'Heavy'], size=n_samples)\n",
        "stress_level = np.random.randint(0, 11, size=n_samples)  # Assume stress level ranges from 0 to 10\n",
        "sleep_duration = np.random.randint(4, 12, size=n_samples)  # Assume sleep duration in hours\n",
        "fast_food_intake = np.random.randint(0, 4, size=n_samples)  # Assume frequency of fast food intake per week\n",
        "\n",
        "# Generating target variable (disease presence)\n",
        "# For simplicity, let's generate a binary target where 1 indicates presence and 0 indicates absence of disease\n",
        "# You can replace this with your own logic for generating target variable based on other features\n",
        "X, y = make_classification(n_samples=n_samples, n_features=11, n_classes=2, random_state=42)\n",
        "\n",
        "# Creating a DataFrame\n",
        "data = pd.DataFrame({\n",
        "    'age': age,\n",
        "    'gender': gender,\n",
        "    'bmi': bmi,\n",
        "    'blood_pressure': blood_pressure,\n",
        "    'cholesterol': cholesterol,\n",
        "    'family_history': family_history,\n",
        "    'exercise_hours': exercise_hours,\n",
        "    'smoking_status': smoking_status,\n",
        "    'alcohol_consumption': alcohol_consumption,\n",
        "    'stress_level': stress_level,\n",
        "    'sleep_duration': sleep_duration,\n",
        "    'fast_food_intake': fast_food_intake,\n",
        "    'disease': y\n",
        "})\n",
        "\n",
        "# Encoding categorical variables\n",
        "data = pd.get_dummies(data, columns=['gender', 'smoking_status', 'alcohol_consumption'])\n",
        "\n",
        "# Saving the dataset to a CSV file\n",
        "data.to_csv('health_data_extended.csv', index=False)\n",
        "print(data.head())\n"
      ]
    },
    {
      "cell_type": "code",
      "source": [
        "import pandas as pd\n",
        "\n",
        "# Load the dataset\n",
        "data = pd.read_csv('health_data_extended.csv')\n",
        "\n",
        "# Perform data cleaning and preprocessing\n",
        "# Handle missing values\n",
        "data.dropna(inplace=True)\n",
        "print(data)\n",
        "\n",
        "# Handle outliers (if necessary)\n",
        "\n",
        "# Normalize or standardize features\n",
        "from sklearn.preprocessing import StandardScaler\n",
        "\n",
        "scaler = StandardScaler()\n",
        "scaled_features = scaler.fit_transform(data.drop(columns=['disease']))\n",
        "data[data.columns[:-1]] = scaled_features\n",
        "\n"
      ],
      "metadata": {
        "colab": {
          "base_uri": "https://localhost:8080/"
        },
        "id": "g-JWeU2kqJzr",
        "outputId": "efebcb4c-13be-47c3-ea1e-7673bd91d2b7"
      },
      "execution_count": null,
      "outputs": [
        {
          "output_type": "stream",
          "name": "stdout",
          "text": [
            "     age        bmi  blood_pressure  cholesterol  family_history  \\\n",
            "0     48  38.489044             145          262               1   \n",
            "1     22  29.519678              91          151               1   \n",
            "2     78  22.508102             145          165               1   \n",
            "3     21  27.198484             149          289               1   \n",
            "4     61  33.442012             156          220               1   \n",
            "..   ...        ...             ...          ...             ...   \n",
            "995   42  19.387862             128          286               1   \n",
            "996   24  37.187901             162          297               1   \n",
            "997   54  28.479496             101          166               0   \n",
            "998   37  26.498280             125          211               0   \n",
            "999   68  23.527290             167          207               1   \n",
            "\n",
            "     exercise_hours  stress_level  sleep_duration  fast_food_intake  disease  \\\n",
            "0                10             1               8                 0        0   \n",
            "1                 5             3               9                 3        0   \n",
            "2                10             9               8                 2        1   \n",
            "3                 7            10               5                 1        0   \n",
            "4                 0             6               7                 0        1   \n",
            "..              ...           ...             ...               ...      ...   \n",
            "995               7             7               7                 2        0   \n",
            "996              10             6               6                 3        1   \n",
            "997               7             1               6                 2        0   \n",
            "998              18             6               5                 1        1   \n",
            "999               6             3               7                 2        1   \n",
            "\n",
            "     gender_Female  gender_Male  smoking_status_Current Smoker  \\\n",
            "0                1            0                              0   \n",
            "1                1            0                              0   \n",
            "2                1            0                              0   \n",
            "3                1            0                              0   \n",
            "4                1            0                              0   \n",
            "..             ...          ...                            ...   \n",
            "995              1            0                              0   \n",
            "996              0            1                              0   \n",
            "997              1            0                              0   \n",
            "998              0            1                              1   \n",
            "999              1            0                              1   \n",
            "\n",
            "     smoking_status_Former Smoker  smoking_status_Never Smoked  \\\n",
            "0                               0                            1   \n",
            "1                               1                            0   \n",
            "2                               1                            0   \n",
            "3                               1                            0   \n",
            "4                               0                            1   \n",
            "..                            ...                          ...   \n",
            "995                             0                            1   \n",
            "996                             0                            1   \n",
            "997                             1                            0   \n",
            "998                             0                            0   \n",
            "999                             0                            0   \n",
            "\n",
            "     alcohol_consumption_Heavy  alcohol_consumption_Moderate  \\\n",
            "0                            0                             0   \n",
            "1                            0                             1   \n",
            "2                            0                             0   \n",
            "3                            0                             0   \n",
            "4                            1                             0   \n",
            "..                         ...                           ...   \n",
            "995                          0                             0   \n",
            "996                          1                             0   \n",
            "997                          0                             0   \n",
            "998                          1                             0   \n",
            "999                          0                             0   \n",
            "\n",
            "     alcohol_consumption_None  \n",
            "0                           1  \n",
            "1                           0  \n",
            "2                           1  \n",
            "3                           1  \n",
            "4                           0  \n",
            "..                        ...  \n",
            "995                         1  \n",
            "996                         0  \n",
            "997                         1  \n",
            "998                         0  \n",
            "999                         1  \n",
            "\n",
            "[1000 rows x 18 columns]\n"
          ]
        }
      ]
    },
    {
      "cell_type": "code",
      "source": [
        "import pandas as pd\n",
        "from sklearn.preprocessing import StandardScaler, MinMaxScaler\n",
        "from sklearn.feature_selection import SelectKBest, chi2\n",
        "from sklearn.model_selection import train_test_split, cross_val_score, GridSearchCV\n",
        "from sklearn.linear_model import LogisticRegression\n",
        "from sklearn.tree import DecisionTreeClassifier\n",
        "from sklearn.ensemble import RandomForestClassifier\n",
        "from sklearn.svm import SVC\n",
        "from sklearn.metrics import accuracy_score, precision_score, recall_score, f1_score\n",
        "\n",
        "\n",
        "\n",
        "data = pd.read_csv('health_data_extended.csv')\n",
        "\n",
        "# Perform data cleaning and preprocessing\n",
        "# Handle missing values\n",
        "data.dropna(inplace=True)\n",
        "\n",
        "# Normalize or standardize features\n",
        "scaler = MinMaxScaler()  # Using MinMaxScaler to ensure all features are non-negative\n",
        "scaled_features = scaler.fit_transform(data.drop(columns=['disease']))\n",
        "data[data.columns[:-1]] = scaled_features\n",
        "\n",
        "# Feature selection using chi-squared test\n",
        "X = data.drop(columns=['disease'])\n",
        "y = data['disease']\n",
        "selector = SelectKBest(score_func=chi2, k=5)\n",
        "selected_features = selector.fit(X, y)\n",
        "selected_features_indices = selected_features.get_support(indices=True)\n",
        "selected_features_names = X.columns[selected_features_indices]\n",
        "X_selected = data[selected_features_names]\n",
        "\n"
      ],
      "metadata": {
        "id": "2gm-ELgMqq6d"
      },
      "execution_count": null,
      "outputs": []
    },
    {
      "cell_type": "code",
      "source": [
        "X_train, X_test, y_train, y_test = train_test_split(X_selected, y, test_size=0.2, random_state=42)"
      ],
      "metadata": {
        "id": "-oUnKtKlrPJq"
      },
      "execution_count": null,
      "outputs": []
    },
    {
      "cell_type": "code",
      "source": [
        "logistic_regression = LogisticRegression()\n",
        "decision_tree = DecisionTreeClassifier()\n",
        "random_forest = RandomForestClassifier()\n",
        "svm = SVC()\n"
      ],
      "metadata": {
        "id": "Yvc83Va5rQRN"
      },
      "execution_count": null,
      "outputs": []
    },
    {
      "cell_type": "code",
      "source": [
        "# Fit the models\n",
        "logistic_regression.fit(X_train, y_train)\n",
        "decision_tree.fit(X_train, y_train)\n",
        "random_forest.fit(X_train, y_train)\n",
        "svm.fit(X_train, y_train)"
      ],
      "metadata": {
        "colab": {
          "base_uri": "https://localhost:8080/",
          "height": 74
        },
        "id": "nkYGUfzOrTvp",
        "outputId": "7059f25d-034d-4c66-baf2-77b95e27ea00"
      },
      "execution_count": null,
      "outputs": [
        {
          "output_type": "execute_result",
          "data": {
            "text/plain": [
              "SVC()"
            ],
            "text/html": [
              "<style>#sk-container-id-1 {color: black;background-color: white;}#sk-container-id-1 pre{padding: 0;}#sk-container-id-1 div.sk-toggleable {background-color: white;}#sk-container-id-1 label.sk-toggleable__label {cursor: pointer;display: block;width: 100%;margin-bottom: 0;padding: 0.3em;box-sizing: border-box;text-align: center;}#sk-container-id-1 label.sk-toggleable__label-arrow:before {content: \"▸\";float: left;margin-right: 0.25em;color: #696969;}#sk-container-id-1 label.sk-toggleable__label-arrow:hover:before {color: black;}#sk-container-id-1 div.sk-estimator:hover label.sk-toggleable__label-arrow:before {color: black;}#sk-container-id-1 div.sk-toggleable__content {max-height: 0;max-width: 0;overflow: hidden;text-align: left;background-color: #f0f8ff;}#sk-container-id-1 div.sk-toggleable__content pre {margin: 0.2em;color: black;border-radius: 0.25em;background-color: #f0f8ff;}#sk-container-id-1 input.sk-toggleable__control:checked~div.sk-toggleable__content {max-height: 200px;max-width: 100%;overflow: auto;}#sk-container-id-1 input.sk-toggleable__control:checked~label.sk-toggleable__label-arrow:before {content: \"▾\";}#sk-container-id-1 div.sk-estimator input.sk-toggleable__control:checked~label.sk-toggleable__label {background-color: #d4ebff;}#sk-container-id-1 div.sk-label input.sk-toggleable__control:checked~label.sk-toggleable__label {background-color: #d4ebff;}#sk-container-id-1 input.sk-hidden--visually {border: 0;clip: rect(1px 1px 1px 1px);clip: rect(1px, 1px, 1px, 1px);height: 1px;margin: -1px;overflow: hidden;padding: 0;position: absolute;width: 1px;}#sk-container-id-1 div.sk-estimator {font-family: monospace;background-color: #f0f8ff;border: 1px dotted black;border-radius: 0.25em;box-sizing: border-box;margin-bottom: 0.5em;}#sk-container-id-1 div.sk-estimator:hover {background-color: #d4ebff;}#sk-container-id-1 div.sk-parallel-item::after {content: \"\";width: 100%;border-bottom: 1px solid gray;flex-grow: 1;}#sk-container-id-1 div.sk-label:hover label.sk-toggleable__label {background-color: #d4ebff;}#sk-container-id-1 div.sk-serial::before {content: \"\";position: absolute;border-left: 1px solid gray;box-sizing: border-box;top: 0;bottom: 0;left: 50%;z-index: 0;}#sk-container-id-1 div.sk-serial {display: flex;flex-direction: column;align-items: center;background-color: white;padding-right: 0.2em;padding-left: 0.2em;position: relative;}#sk-container-id-1 div.sk-item {position: relative;z-index: 1;}#sk-container-id-1 div.sk-parallel {display: flex;align-items: stretch;justify-content: center;background-color: white;position: relative;}#sk-container-id-1 div.sk-item::before, #sk-container-id-1 div.sk-parallel-item::before {content: \"\";position: absolute;border-left: 1px solid gray;box-sizing: border-box;top: 0;bottom: 0;left: 50%;z-index: -1;}#sk-container-id-1 div.sk-parallel-item {display: flex;flex-direction: column;z-index: 1;position: relative;background-color: white;}#sk-container-id-1 div.sk-parallel-item:first-child::after {align-self: flex-end;width: 50%;}#sk-container-id-1 div.sk-parallel-item:last-child::after {align-self: flex-start;width: 50%;}#sk-container-id-1 div.sk-parallel-item:only-child::after {width: 0;}#sk-container-id-1 div.sk-dashed-wrapped {border: 1px dashed gray;margin: 0 0.4em 0.5em 0.4em;box-sizing: border-box;padding-bottom: 0.4em;background-color: white;}#sk-container-id-1 div.sk-label label {font-family: monospace;font-weight: bold;display: inline-block;line-height: 1.2em;}#sk-container-id-1 div.sk-label-container {text-align: center;}#sk-container-id-1 div.sk-container {/* jupyter's `normalize.less` sets `[hidden] { display: none; }` but bootstrap.min.css set `[hidden] { display: none !important; }` so we also need the `!important` here to be able to override the default hidden behavior on the sphinx rendered scikit-learn.org. See: https://github.com/scikit-learn/scikit-learn/issues/21755 */display: inline-block !important;position: relative;}#sk-container-id-1 div.sk-text-repr-fallback {display: none;}</style><div id=\"sk-container-id-1\" class=\"sk-top-container\"><div class=\"sk-text-repr-fallback\"><pre>SVC()</pre><b>In a Jupyter environment, please rerun this cell to show the HTML representation or trust the notebook. <br />On GitHub, the HTML representation is unable to render, please try loading this page with nbviewer.org.</b></div><div class=\"sk-container\" hidden><div class=\"sk-item\"><div class=\"sk-estimator sk-toggleable\"><input class=\"sk-toggleable__control sk-hidden--visually\" id=\"sk-estimator-id-1\" type=\"checkbox\" checked><label for=\"sk-estimator-id-1\" class=\"sk-toggleable__label sk-toggleable__label-arrow\">SVC</label><div class=\"sk-toggleable__content\"><pre>SVC()</pre></div></div></div></div></div>"
            ]
          },
          "metadata": {},
          "execution_count": 9
        }
      ]
    },
    {
      "cell_type": "code",
      "source": [
        "# Predictions\n",
        "lr_predictions = logistic_regression.predict(X_test)\n",
        "dt_predictions = decision_tree.predict(X_test)\n",
        "rf_predictions = random_forest.predict(X_test)\n",
        "svm_predictions = svm.predict(X_test)\n",
        "\n",
        "# Evaluate model performance\n",
        "print(\"Logistic Regression:\")\n",
        "print(\"Accuracy:\", accuracy_score(y_test, lr_predictions))\n",
        "print(\"Precision:\", precision_score(y_test, lr_predictions))\n",
        "print(\"Recall:\", recall_score(y_test, lr_predictions))\n",
        "print(\"F1 Score:\", f1_score(y_test, lr_predictions))\n",
        "# Evaluate Decision Tree model\n",
        "print(\"\\nDecision Tree:\")\n",
        "print(\"Accuracy:\", accuracy_score(y_test, dt_predictions))\n",
        "print(\"Precision:\", precision_score(y_test, dt_predictions))\n",
        "print(\"Recall:\", recall_score(y_test, dt_predictions))\n",
        "print(\"F1 Score:\", f1_score(y_test, dt_predictions))\n",
        "\n",
        "# Evaluate Random Forest model\n",
        "print(\"\\nRandom Forest:\")\n",
        "print(\"Accuracy:\", accuracy_score(y_test, rf_predictions))\n",
        "print(\"Precision:\", precision_score(y_test, rf_predictions))\n",
        "print(\"Recall:\", recall_score(y_test, rf_predictions))\n",
        "print(\"F1 Score:\", f1_score(y_test, rf_predictions))\n",
        "\n",
        "# Evaluate SVM model\n",
        "print(\"\\nSVM:\")\n",
        "print(\"Accuracy:\", accuracy_score(y_test, svm_predictions))\n",
        "print(\"Precision:\", precision_score(y_test, svm_predictions))\n",
        "print(\"Recall:\", recall_score(y_test, svm_predictions))\n",
        "print(\"F1 Score:\", f1_score(y_test, svm_predictions))\n"
      ],
      "metadata": {
        "colab": {
          "base_uri": "https://localhost:8080/"
        },
        "id": "flnNaTj-rYBU",
        "outputId": "e61f0420-cc9b-4296-b0de-11607cbebaac"
      },
      "execution_count": null,
      "outputs": [
        {
          "output_type": "stream",
          "name": "stdout",
          "text": [
            "Logistic Regression:\n",
            "Accuracy: 1.0\n",
            "Precision: 1.0\n",
            "Recall: 1.0\n",
            "F1 Score: 1.0\n",
            "\n",
            "Decision Tree:\n",
            "Accuracy: 1.0\n",
            "Precision: 1.0\n",
            "Recall: 1.0\n",
            "F1 Score: 1.0\n",
            "\n",
            "Random Forest:\n",
            "Accuracy: 1.0\n",
            "Precision: 1.0\n",
            "Recall: 1.0\n",
            "F1 Score: 1.0\n",
            "\n",
            "SVM:\n",
            "Accuracy: 1.0\n",
            "Precision: 1.0\n",
            "Recall: 1.0\n",
            "F1 Score: 1.0\n"
          ]
        }
      ]
    },
    {
      "cell_type": "code",
      "source": [
        "cv_scores = cross_val_score(logistic_regression, X_selected, y, cv=5)\n",
        "print(\"Cross-Validation Scores for Logistic Regression:\", cv_scores)\n",
        "print(\"Mean CV Score for Logistic Regression:\", cv_scores.mean())"
      ],
      "metadata": {
        "colab": {
          "base_uri": "https://localhost:8080/"
        },
        "id": "EvZVqkp9rdnu",
        "outputId": "0d898a35-ea76-4466-cccd-198175141b7b"
      },
      "execution_count": null,
      "outputs": [
        {
          "output_type": "stream",
          "name": "stdout",
          "text": [
            "Cross-Validation Scores for Logistic Regression: [1. 1. 1. 1. 1.]\n",
            "Mean CV Score for Logistic Regression: 1.0\n"
          ]
        }
      ]
    },
    {
      "cell_type": "code",
      "source": [
        "from sklearn.model_selection import RandomizedSearchCV\n",
        "\n",
        "param_distributions = {\n",
        "    'n_estimators': [100, 200, 300],\n",
        "    'max_depth': [None, 10, 20],\n",
        "    'min_samples_split': [2, 5, 10],\n",
        "    'min_samples_leaf': [1, 2, 4]\n",
        "}\n",
        "\n",
        "random_search = RandomizedSearchCV(random_forest, param_distributions, n_iter=10, cv=5, scoring='accuracy', random_state=42)\n",
        "random_search.fit(X_train, y_train)\n",
        "\n",
        "# Best parameters\n",
        "print(\"Best Parameters:\", random_search.best_params_)\n"
      ],
      "metadata": {
        "colab": {
          "base_uri": "https://localhost:8080/"
        },
        "id": "PPEZKDihrpVM",
        "outputId": "5417d110-a275-4fcf-da58-a044ed730058"
      },
      "execution_count": null,
      "outputs": [
        {
          "output_type": "stream",
          "name": "stdout",
          "text": [
            "Best Parameters: {'n_estimators': 100, 'min_samples_split': 5, 'min_samples_leaf': 1, 'max_depth': 10}\n"
          ]
        }
      ]
    },
    {
      "cell_type": "code",
      "source": [
        "# Predictions using the best model\n",
        "best_model = random_search.best_estimator_\n",
        "best_model_predictions = best_model.predict(X_test)\n",
        "\n",
        "# Evaluate the best model\n",
        "print(\"Best Model Performance:\")\n",
        "print(\"Accuracy:\", accuracy_score(y_test, best_model_predictions))\n",
        "print(\"Precision:\", precision_score(y_test, best_model_predictions))\n",
        "print(\"Recall:\", recall_score(y_test, best_model_predictions))\n",
        "print(\"F1 Score:\", f1_score(y_test, best_model_predictions))"
      ],
      "metadata": {
        "colab": {
          "base_uri": "https://localhost:8080/"
        },
        "id": "ode7C8YLry_F",
        "outputId": "9c2b856f-0e86-41b4-95e1-199a5d074ba4"
      },
      "execution_count": null,
      "outputs": [
        {
          "output_type": "stream",
          "name": "stdout",
          "text": [
            "Best Model Performance:\n",
            "Accuracy: 1.0\n",
            "Precision: 1.0\n",
            "Recall: 1.0\n",
            "F1 Score: 1.0\n"
          ]
        }
      ]
    },
    {
      "cell_type": "markdown",
      "source": [
        "User Interface:(optional)\n",
        "A user-friendly interface that allows users to input their health-related\n",
        "data and receive predictions about the likelihood of having a particular disease."
      ],
      "metadata": {
        "id": "74BSeasi3qfU"
      }
    },
    {
      "cell_type": "code",
      "source": [
        "import pandas as pd\n",
        "from sklearn.preprocessing import StandardScaler, MinMaxScaler\n",
        "from sklearn.feature_selection import SelectKBest, chi2\n",
        "from sklearn.model_selection import train_test_split, cross_val_score, GridSearchCV\n",
        "from sklearn.linear_model import LogisticRegression\n",
        "from sklearn.tree import DecisionTreeClassifier\n",
        "from sklearn.ensemble import RandomForestClassifier\n",
        "from sklearn.svm import SVC\n",
        "from sklearn.metrics import accuracy_score, precision_score, recall_score, f1_score\n",
        "\n",
        "\n",
        "\n",
        "data = pd.read_csv('health_data_extended.csv')\n",
        "\n",
        "# Perform data cleaning and preprocessing\n",
        "# Handle missing values\n",
        "data.dropna(inplace=True)\n",
        "\n",
        "# Normalize or standardize features\n",
        "scaler = MinMaxScaler()  # Using MinMaxScaler to ensure all features are non-negative\n",
        "scaled_features = scaler.fit_transform(data.drop(columns=['disease']))\n",
        "data[data.columns[:-1]] = scaled_features\n",
        "\n",
        "# Feature selection using chi-squared test\n",
        "X = data.drop(columns=['disease'])\n",
        "y = data['disease']\n",
        "selector = SelectKBest(score_func=chi2, k=5)\n",
        "selected_features = selector.fit(X, y)\n",
        "selected_features_indices = selected_features.get_support(indices=True)\n",
        "selected_features_names = X.columns[selected_features_indices]\n",
        "X_selected = data[selected_features_names]\n",
        "\n",
        "\n",
        "\n",
        "# Train a Random Forest model\n",
        "X_train, X_test, y_train, y_test = train_test_split(X_selected, y, test_size=0.2, random_state=42)\n",
        "random_forest = RandomForestClassifier()\n",
        "random_forest.fit(X_train, y_train)\n",
        "\n",
        "# Define a function to make predictions\n",
        "def predict_disease(features):\n",
        "    scaled_features = scaler.transform([features])\n",
        "    selected_features = scaled_features[:, selected_features_indices]\n",
        "    prediction = random_forest.predict(selected_features)[0]\n",
        "    return prediction\n",
        "\n",
        "# User Interface\n",
        "print(\"Welcome to the Disease Prediction System!\")\n",
        "print(\"Please enter your health-related data:\")\n",
        "\n",
        "age = int(input(\"Enter your age: \"))\n",
        "gender = input(\"Enter your gender (Male/Female): \")\n",
        "bmi = float(input(\"Enter your BMI: \"))\n",
        "blood_pressure = int(input(\"Enter your blood pressure: \"))\n",
        "cholesterol = int(input(\"Enter your cholesterol level: \"))\n",
        "family_history = int(input(\"Do you have a family history of the disease? (0 for No, 1 for Yes): \"))\n",
        "exercise_hours = int(input(\"Enter your weekly exercise hours: \"))\n",
        "smoking_status = input(\"Enter your smoking status (Never Smoked/Former Smoker/Current Smoker): \")\n",
        "alcohol_consumption = input(\"Enter your alcohol consumption level (None/Moderate/Heavy): \")\n",
        "stress_level = int(input(\"Enter your stress level (0-10): \"))\n",
        "sleep_duration = int(input(\"Enter your average sleep duration (hours): \"))\n",
        "fast_food_intake = int(input(\"Enter your weekly frequency of fast food intake: \"))\n",
        "\n",
        "features = [age, bmi, blood_pressure, cholesterol, family_history, exercise_hours, stress_level, sleep_duration, fast_food_intake]\n",
        "\n",
        "# Convert categorical inputs to one-hot encoded format\n",
        "gender_male = 1 if gender.lower() == 'male' else 0\n",
        "gender_female = 1 if gender.lower() == 'female' else 0\n",
        "\n",
        "smoking_status_never = 1 if smoking_status.lower() == 'never smoked' else 0\n",
        "smoking_status_former = 1 if smoking_status.lower() == 'former smoker' else 0\n",
        "smoking_status_current = 1 if smoking_status.lower() == 'current smoker' else 0\n",
        "\n",
        "alcohol_none = 1 if alcohol_consumption.lower() == 'none' else 0\n",
        "alcohol_moderate = 1 if alcohol_consumption.lower() == 'moderate' else 0\n",
        "alcohol_heavy = 1 if alcohol_consumption.lower() == 'heavy' else 0\n",
        "\n",
        "features += [gender_male, gender_female, smoking_status_never, smoking_status_former, smoking_status_current, alcohol_none, alcohol_moderate, alcohol_heavy]\n",
        "\n",
        "# Make prediction\n",
        "prediction = predict_disease(features)\n",
        "\n",
        "# Output prediction\n",
        "if prediction == 1:\n",
        "    print(\"\\nBased on the provided data, you are predicted to have the disease.\")\n",
        "else:\n",
        "    print(\"\\nBased on the provided data, you are predicted to not have the disease.\")\n"
      ],
      "metadata": {
        "colab": {
          "base_uri": "https://localhost:8080/"
        },
        "id": "Cl4LKabGzMAc",
        "outputId": "e383a6c2-8042-42c0-93f6-c779e89d96fb"
      },
      "execution_count": null,
      "outputs": [
        {
          "output_type": "stream",
          "name": "stdout",
          "text": [
            "Welcome to the Disease Prediction System!\n",
            "Please enter your health-related data:\n",
            "Enter your age: 21\n",
            "Enter your gender (Male/Female): Male\n",
            "Enter your BMI: 24.2\n",
            "Enter your blood pressure: 250\n",
            "Enter your cholesterol level: 250\n",
            "Do you have a family history of the disease? (0 for No, 1 for Yes): 1\n",
            "Enter your weekly exercise hours: 2\n",
            "Enter your smoking status (Never Smoked/Former Smoker/Current Smoker): Current Smoker\n",
            "Enter your alcohol consumption level (None/Moderate/Heavy): Heavy\n",
            "Enter your stress level (0-10): 10\n",
            "Enter your average sleep duration (hours): 4\n",
            "Enter your weekly frequency of fast food intake: 6\n",
            "\n",
            "Based on the provided data, you are predicted to not have the disease.\n"
          ]
        },
        {
          "output_type": "stream",
          "name": "stderr",
          "text": [
            "/usr/local/lib/python3.10/dist-packages/sklearn/base.py:439: UserWarning: X does not have valid feature names, but MinMaxScaler was fitted with feature names\n",
            "  warnings.warn(\n",
            "/usr/local/lib/python3.10/dist-packages/sklearn/base.py:439: UserWarning: X does not have valid feature names, but RandomForestClassifier was fitted with feature names\n",
            "  warnings.warn(\n"
          ]
        }
      ]
    }
  ]
}